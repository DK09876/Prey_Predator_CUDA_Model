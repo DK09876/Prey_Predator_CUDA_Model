{
 "cells": [
  {
   "cell_type": "code",
   "execution_count": 1,
   "metadata": {},
   "outputs": [
    {
     "name": "stdout",
     "output_type": "stream",
     "text": [
      "id:0, position:(0,0), hungerRate:0.1, breedRate:0.2, maxLife:12, moveSpeed:3, speedModifier:1\n",
      "id:1, position:(10,10), hungerRate:0.2, breedRate:0.1, maxLife:8, moveSpeed:3, speedModifier:1\n"
     ]
    },
    {
     "data": {
      "text/plain": [
       "'end'"
      ]
     },
     "execution_count": 1,
     "metadata": {},
     "output_type": "execute_result"
    }
   ],
   "source": [
    "\"\"\"Start\"\"\"\n",
    "\n",
    "\"\"\"create classes\"\"\"\n",
    "\n",
    "class Animal:\n",
    "  def __init__ (self, id, hungerRate, birthRate, maxLife, moveSpeed, speedModifier, xPosition, yPosition):\n",
    "    self.id=id\n",
    "    self.hungerRate=hungerRate\n",
    "    self.birthRate=birthRate\n",
    "    self.maxLife=maxLife\n",
    "    self.moveSpeed=moveSpeed\n",
    "    self.speedModifier=speedModifier\n",
    "    self.xPosition=xPosition\n",
    "    self.yPosition=yPosition\n",
    "\n",
    "  def __str__(self):\n",
    "    return f\"id:{self.id}, position:({self.xPosition},{self.yPosition}), hungerRate:{self.hungerRate}, breedRate:{self.birthRate}, maxLife:{self.maxLife}, moveSpeed:{self.moveSpeed}, speedModifier:{self.speedModifier}\"\n",
    "\n",
    "class Sheep(Animal):\n",
    "    pass\n",
    "\n",
    "class Wolf(Animal):\n",
    "    pass\n",
    "\n",
    "class SheepFood:\n",
    "  def __init__(self, type, desirability):\n",
    "    self.type=type\n",
    "    self.desirability=desirability\n",
    "\n",
    "class Grass:\n",
    "  def __init__(self, hasFood, growthRate, currFood):\n",
    "    self.hasFood=hasFood\n",
    "    self.growthRate=growthRate\n",
    "    self.currFood=currFood\n",
    "\n",
    "class Space:\n",
    "  def __init__ (self, myGrassPatch, myAnimal, myXPosition, myYPosition):\n",
    "    self.myGrasspatch=myGrassPatch\n",
    "    self.myAnimal=myAnimal\n",
    "    self.myXPos=myXPosition\n",
    "    self.myYPos=myYPosition\n",
    "\n",
    "class Field:\n",
    "  def __init__(self, numRows, numCols):\n",
    "    \"\"\"initialize grid\"\"\"\n",
    "\n",
    "    \"\"\"for numCols\"\"\"\n",
    "    \"\"\"for numRows\"\"\"\n",
    "    \"\"\"add a Space object\"\"\"\n",
    "  \n",
    "\n",
    "\"\"\"serial\"\"\"\n",
    "\"\"\"read number of sheep\"\"\"\n",
    "\n",
    "\"\"\"serial\"\"\"\n",
    "\"\"\"read number of wolves\"\"\"\n",
    "\n",
    "\"\"\"initialize sheep (assumes starting position is determined by sheep)\"\"\"\n",
    "\"\"\"Todd = Animal(\"Todd\", 1, False, 0, 3, 4)\"\"\"\n",
    "\"\"\"print(Todd)\"\"\"\n",
    "\n",
    "Bill = Sheep(0, 0.1, 0.2, 12, 3, 1, 0, 0)\n",
    "print(Bill)\n",
    "\n",
    "\"\"\"initialize wolves (assumes starting position is determined by wolves)\"\"\"\n",
    "Tony = Wolf(1, 0.2, 0.1, 8, 3, 1, 10, 10)\n",
    "print(Tony)\n",
    "\n",
    "\"\"\"for each step\"\"\"\n",
    "\"\"\"update positions\"\"\"\n",
    "\"\"\"remove sheep\"\"\"\n",
    "\"\"\"remove wolves\"\"\"\n",
    "\"\"\"add sheep\"\"\"\n",
    "\"\"\"add wolves\"\"\"\n",
    "\n",
    "\"\"\"end\"\"\""
   ]
  }
 ],
 "metadata": {
  "kernelspec": {
   "display_name": "Python 3.9.13 64-bit (microsoft store)",
   "language": "python",
   "name": "python3"
  },
  "language_info": {
   "codemirror_mode": {
    "name": "ipython",
    "version": 3
   },
   "file_extension": ".py",
   "mimetype": "text/x-python",
   "name": "python",
   "nbconvert_exporter": "python",
   "pygments_lexer": "ipython3",
   "version": "3.9.13"
  },
  "orig_nbformat": 4,
  "vscode": {
   "interpreter": {
    "hash": "aac51c7507bf4ac3b03d9b5883b37dfe43a94dadee2d17891a0eaa8c4be4df03"
   }
  }
 },
 "nbformat": 4,
 "nbformat_minor": 2
}
