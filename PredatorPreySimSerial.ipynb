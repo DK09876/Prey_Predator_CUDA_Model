{
 "cells": [
  {
   "cell_type": "code",
   "execution_count": 1,
   "metadata": {},
   "outputs": [
    {
     "name": "stdout",
     "output_type": "stream",
     "text": [
      "name:Bill, id:0, position:1, isDead:False, breedRate:3, deathRate:4\n",
      "name:Tony, id:0, position:1, isDead:False, breedRate:3, deathRate:4\n"
     ]
    },
    {
     "data": {
      "text/plain": [
       "'end'"
      ]
     },
     "execution_count": 1,
     "metadata": {},
     "output_type": "execute_result"
    }
   ],
   "source": [
    "\"\"\"Start\"\"\"\n",
    "\n",
    "\"\"\"create classes\"\"\"\n",
    "class Animal:\n",
    "  def __init__ (self, name, position, isDead, id, breedRate, deathRate):\n",
    "    self.name=name\n",
    "    self.position=position\n",
    "    self.isDead=isDead\n",
    "    self.id=id\n",
    "    self.breedRate=breedRate\n",
    "    self.deathRate=deathRate\n",
    "\n",
    "  def __str__(self):\n",
    "    return f\"name:{self.name}, id:{self.id}, position:{self.position}, isDead:{self.isDead}, breedRate:{self.breedRate}, deathRate:{self.deathRate}\"\n",
    "\n",
    "class Sheep(Animal):\n",
    "    pass\n",
    "\n",
    "class Wolf(Animal):\n",
    "    pass\n",
    "  \n",
    "\n",
    "\"\"\"serial\"\"\"\n",
    "\"\"\"read number of sheep\"\"\"\n",
    "\n",
    "\"\"\"serial\"\"\"\n",
    "\"\"\"read number of wolves\"\"\"\n",
    "\n",
    "\"\"\"initialize sheep (assumes starting position is determined by sheep)\"\"\"\n",
    "\"\"\"Todd = Animal(\"Todd\", 1, False, 0, 3, 4)\"\"\"\n",
    "\"\"\"print(Todd)\"\"\"\n",
    "\n",
    "Bill = Sheep(\"Bill\", 1, False, 0, 3, 4)\n",
    "print(Bill)\n",
    "\n",
    "\"\"\"initialize wolves (assumes starting position is determined by wolves)\"\"\"\n",
    "Tony = Wolf(\"Tony\", 1, False, 0, 3, 4)\n",
    "print(Tony)\n",
    "\n",
    "\"\"\"for each step\"\"\"\n",
    "\"\"\"update positions\"\"\"\n",
    "\"\"\"remove sheep\"\"\"\n",
    "\"\"\"remove wolves\"\"\"\n",
    "\"\"\"add sheep\"\"\"\n",
    "\"\"\"add wolves\"\"\"\n",
    "\n",
    "\"\"\"end\"\"\""
   ]
  }
 ],
 "metadata": {
  "kernelspec": {
   "display_name": "Python 3.9.13 64-bit (microsoft store)",
   "language": "python",
   "name": "python3"
  },
  "language_info": {
   "codemirror_mode": {
    "name": "ipython",
    "version": 3
   },
   "file_extension": ".py",
   "mimetype": "text/x-python",
   "name": "python",
   "nbconvert_exporter": "python",
   "pygments_lexer": "ipython3",
   "version": "3.9.13"
  },
  "orig_nbformat": 4,
  "vscode": {
   "interpreter": {
    "hash": "aac51c7507bf4ac3b03d9b5883b37dfe43a94dadee2d17891a0eaa8c4be4df03"
   }
  }
 },
 "nbformat": 4,
 "nbformat_minor": 2
}
