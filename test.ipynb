{
 "cells": [
  {
   "cell_type": "markdown",
   "metadata": {},
   "source": [
    "### documentation : https://numba.readthedocs.io/en/stable/cuda/kernels.html ###\n",
    "\n",
    "\n",
    "\n",
    "$ pip install numba\n",
    "\n",
    "$ conda install cudatoolkit\n"
   ]
  },
  {
   "cell_type": "code",
   "execution_count": null,
   "metadata": {},
   "outputs": [],
   "source": [
    "#\n",
    "# Field Size!\n",
    "# Predator/Prey hunger rates\n",
    "# Food growth rate\n",
    "# Chance of birth\n",
    "# Chance of predation\n",
    "# Max life time…\n",
    "# Prey vs Predator move speed\n",
    "# Move speed based on hunger (Survival of the fittest mode)\n",
    "# Equal starting populations for both\n"
   ]
  },
  {
   "cell_type": "code",
   "execution_count": null,
   "metadata": {},
   "outputs": [],
   "source": [
    "from cuda import cuda, nvrtc\n",
    "import numpy as np"
   ]
  },
  {
   "cell_type": "code",
   "execution_count": 14,
   "metadata": {},
   "outputs": [],
   "source": [
    "#parent class for animals\n",
    "class Animal:\n",
    "  def __init__ (self, id, hungerRate, birthRate, maxLife, moveSpeed, speedModifier, xPosition, yPosition):\n",
    "    self.id=id\n",
    "    self.hungerRate=hungerRate\n",
    "    self.birthRate=birthRate\n",
    "    self.maxLife=maxLife\n",
    "    self.moveSpeed=moveSpeed\n",
    "    self.speedModifier=speedModifier\n",
    "    self.xPosition=xPosition\n",
    "    self.yPosition=yPosition\n",
    "\n",
    "  def die(self):\n",
    "        self.xPosition=-1\n",
    "        self.yPosition=-1\n",
    "        print(\"oof\")\n",
    "    \n",
    "  def breed(self):\n",
    "      print(\"Did you come from a vending machine bc you're a snack\")\n",
    "    \n",
    "  def move(self):\n",
    "    \"\"\"TODO: Correctly calculate and return the correct move speed\"\"\"\n",
    "      self.totalMove=self.moveSpeed*self.speedModifier\n",
    "      print(\"I moved {self.totalMove} spaces!\")\n",
    "\n",
    "  def __str__(self):\n",
    "    return f\"id:{self.id}, position:({self.xPosition},{self.yPosition}), hungerRate:{self.hungerRate}, breedRate:{self.birthRate}, maxLife:{self.maxLife}, moveSpeed:{self.moveSpeed}, speedModifier:{self.speedModifier}\""
   ]
  },
  {
   "cell_type": "code",
   "execution_count": 13,
   "metadata": {},
   "outputs": [],
   "source": [
    "#class for prey\n",
    "class Sheep(Animal):\n",
    "    def __init__ (self, id, hungerRate, birthRate, maxLife, moveSpeed, speedModifier, xPosition, yPosition):\n",
    "        super().__init__(id, hungerRate, birthRate, maxLife, moveSpeed, speedModifier, xPosition, yPosition)\n",
    "    \n",
    "    def eat(self):\n",
    "        print(\"yum!\")\n",
    "    \n",
    "    \n",
    "\n"
   ]
  },
  {
   "cell_type": "code",
   "execution_count": 16,
   "metadata": {},
   "outputs": [],
   "source": [
    "#class for predator\n",
    "class Wolf(Animal):\n",
    "    def __init__ (self, id, hungerRate, birthRate, maxLife, moveSpeed, speedModifier, xPosition, yPosition):\n",
    "        super().__init__(id, hungerRate, birthRate, maxLife, moveSpeed, speedModifier, xPosition, yPosition)\n",
    "    \n",
    "    def eat(self):\n",
    "        print(\"yummy!\")"
   ]
  },
  {
   "cell_type": "code",
   "execution_count": null,
   "metadata": {},
   "outputs": [],
   "source": [
    "#classes for Field\n",
    "class SheepFood:\n",
    "  def __init__(self, type, desirability):\n",
    "    self.type=type\n",
    "    self.desirability=desirability\n",
    "\n",
    "class Grass:\n",
    "  def __init__(self, hasFood, growthRate, currFood):\n",
    "    self.hasFood=hasFood\n",
    "    self.growthRate=growthRate\n",
    "    self.currFood=currFood\n",
    "\n",
    "class Space:\n",
    "  def __init__ (self, myGrassPatch, myAnimal, myXPosition, myYPosition):\n",
    "    self.myGrasspatch=myGrassPatch\n",
    "    self.myAnimal=myAnimal\n",
    "    self.myXPos=myXPosition\n",
    "    self.myYPos=myYPosition\n",
    "\n",
    "class Field:\n",
    "  def __init__(self, numRows, numCols):\n",
    "   self.numRows=numRows\n",
    "   self.numCols=numCols\n",
    "   self.grid=[]\n",
    "   i=0\n",
    "   j=0\n",
    "   while i < numCols:\n",
    "    grid.append\n",
    "    while j < numRows:\n",
    "      self.grid[]\n",
    "\n",
    "  \"\"\"initialize grid\"\"\"\n",
    "\n",
    "  \"\"\"for numCols\"\"\"\n",
    "  \"\"\"for numRows\"\"\"\n",
    "  \"\"\"add a Space object\"\"\""
   ]
  },
  {
   "cell_type": "code",
   "execution_count": null,
   "metadata": {},
   "outputs": [],
   "source": [
    "#declare kernel (simulation)\n",
    "\n",
    "\n",
    "# in the kernel we initialize classes\n",
    "\n",
    "# do simulation."
   ]
  },
  {
   "cell_type": "code",
   "execution_count": 19,
   "metadata": {},
   "outputs": [],
   "source": [
    "def main():\n",
    "    #test code\n",
    "    testPrey=Sheep(0, 0.1, 0.2, 12, 3, 1, 0, 0)\n",
    "    testPredator=Wolf(1, 0.2, 0.1, 8, 3, 1, 10, 10)\n",
    "    print(testPrey)\n",
    "    print(testPredator)\n",
    "    print(\"---------------------\")\n",
    "    \n",
    "    print(\"Animal method test:\")\n",
    "    print(\"Prey:\")\n",
    "    testPrey.die()\n",
    "    testPrey.breed()\n",
    "    testPrey.move()\n",
    "\n",
    "    print(\"Predator:\")\n",
    "    testPredator.die()\n",
    "    testPredator.breed()\n",
    "    testPredator.move()\n",
    "\n",
    "    print(\"---------------------\")\n",
    "    \n",
    "    print(\"Prey method test:\")\n",
    "    testPrey.eat()\n",
    "\n",
    "    print(\"---------------------\")\n",
    "    \n",
    "    print(\"Predator method test:\")\n",
    "    testPredator.eat()\n",
    "\n",
    "    print(\"---------------------\")\n",
    "    \n",
    "    print(\"Final results:\")\n",
    "\n",
    "    print(testPrey)\n",
    "    print(testPredator)\n",
    "    #call kernel\n",
    "\n",
    "\n",
    "    #store results in array\n",
    "\n",
    "    #average array for results"
   ]
  },
  {
   "cell_type": "code",
   "execution_count": 20,
   "metadata": {},
   "outputs": [
    {
     "name": "stdout",
     "output_type": "stream",
     "text": [
      "id:0, position:(0,0), hungerRate:0.1, breedRate:0.2, maxLife:12, moveSpeed:3, speedModifier:1\n",
      "id:1, position:(10,10), hungerRate:0.2, breedRate:0.1, maxLife:8, moveSpeed:3, speedModifier:1\n",
      "---------------------\n",
      "Animal method test:\n",
      "Prey:\n",
      "oof\n",
      "Did you come from a vending machine bc you're a snack\n",
      "I moved {self.totalMove} spaces!\n",
      "Predator:\n",
      "oof\n",
      "Did you come from a vending machine bc you're a snack\n",
      "I moved {self.totalMove} spaces!\n",
      "---------------------\n",
      "Prey method test:\n",
      "---------------------\n",
      "Predator method test:\n",
      "---------------------\n",
      "Final results:\n",
      "id:0, position:(-1,-1), hungerRate:0.1, breedRate:0.2, maxLife:12, moveSpeed:3, speedModifier:1\n",
      "id:1, position:(-1,-1), hungerRate:0.2, breedRate:0.1, maxLife:8, moveSpeed:3, speedModifier:1\n"
     ]
    }
   ],
   "source": [
    "main()"
   ]
  }
 ],
 "metadata": {
  "kernelspec": {
   "display_name": "Python 3.9.13 64-bit (microsoft store)",
   "language": "python",
   "name": "python3"
  },
  "language_info": {
   "codemirror_mode": {
    "name": "ipython",
    "version": 3
   },
   "file_extension": ".py",
   "mimetype": "text/x-python",
   "name": "python",
   "nbconvert_exporter": "python",
   "pygments_lexer": "ipython3",
   "version": "3.9.13"
  },
  "orig_nbformat": 4,
  "vscode": {
   "interpreter": {
    "hash": "aac51c7507bf4ac3b03d9b5883b37dfe43a94dadee2d17891a0eaa8c4be4df03"
   }
  }
 },
 "nbformat": 4,
 "nbformat_minor": 2
}
