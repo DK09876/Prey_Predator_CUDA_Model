{
 "cells": [
  {
   "cell_type": "markdown",
   "metadata": {},
   "source": [
    "### documentation : https://numba.readthedocs.io/en/stable/cuda/kernels.html ###\n",
    "\n",
    "\n",
    "\n",
    "$ pip install numba\n",
    "\n",
    "$ conda install cudatoolkit\n"
   ]
  },
  {
   "cell_type": "code",
   "execution_count": null,
   "metadata": {},
   "outputs": [],
   "source": [
    "#\n",
    "# Field Size!\n",
    "# Predator/Prey hunger rates\n",
    "# Food growth rate\n",
    "# Chance of birth\n",
    "# Chance of predation\n",
    "# Max life time…\n",
    "# Prey vs Predator move speed\n",
    "# Move speed based on hunger (Survival of the fittest mode)\n",
    "# Equal starting populations for both\n"
   ]
  },
  {
   "cell_type": "code",
   "execution_count": null,
   "metadata": {},
   "outputs": [],
   "source": [
    "from cuda import cuda, nvrtc\n",
    "import numpy as np"
   ]
  },
  {
   "cell_type": "code",
   "execution_count": null,
   "metadata": {},
   "outputs": [],
   "source": [
    "#parent class for animals\n",
    "class Animal:\n",
    "  def __init__ (self, id, hungerRate, birthRate, maxLife, moveSpeed, speedModifier, xPosition, yPosition):\n",
    "    self.id=id\n",
    "    self.hungerRate=hungerRate\n",
    "    self.birthRate=birthRate\n",
    "    self.maxLife=maxLife\n",
    "    self.moveSpeed=moveSpeed\n",
    "    self.speedModifier=speedModifier\n",
    "    self.xPosition=xPosition\n",
    "    self.yPosition=yPosition\n",
    "\n",
    "def __str__(self):\n",
    "    return f\"id:{self.id}, position:({self.xPosition},{self.yPosition}), hungerRate:{self.hungerRate}, breedRate:{self.birthRate}, maxLife:{self.maxLife}, moveSpeed:{self.moveSpeed}, speedModifier:{self.speedModifier}\""
   ]
  },
  {
   "cell_type": "code",
   "execution_count": null,
   "metadata": {},
   "outputs": [],
   "source": [
    "#class for prey\n",
    "class Sheep(Animal):\n",
    "    pass"
   ]
  },
  {
   "cell_type": "code",
   "execution_count": null,
   "metadata": {},
   "outputs": [],
   "source": [
    "#class for predator\n",
    "class Wolf(Animal):\n",
    "    pass"
   ]
  },
  {
   "cell_type": "code",
   "execution_count": null,
   "metadata": {},
   "outputs": [],
   "source": [
    "#class for Field"
   ]
  },
  {
   "cell_type": "code",
   "execution_count": null,
   "metadata": {},
   "outputs": [],
   "source": [
    "#declare kernel (simulation)\n",
    "\n",
    "\n",
    "# in the kernel we initialize classes\n",
    "\n",
    "# do simulation."
   ]
  },
  {
   "cell_type": "code",
   "execution_count": null,
   "metadata": {},
   "outputs": [],
   "source": [
    "def main():\n",
    "    #call kernel\n",
    "\n",
    "\n",
    "    #store results in array\n",
    "\n",
    "    #average array for results"
   ]
  }
 ],
 "metadata": {
  "kernelspec": {
   "display_name": "Python 3.9.13 64-bit (microsoft store)",
   "language": "python",
   "name": "python3"
  },
  "language_info": {
   "name": "python",
   "version": "3.9.13"
  },
  "orig_nbformat": 4,
  "vscode": {
   "interpreter": {
    "hash": "aac51c7507bf4ac3b03d9b5883b37dfe43a94dadee2d17891a0eaa8c4be4df03"
   }
  }
 },
 "nbformat": 4,
 "nbformat_minor": 2
}
