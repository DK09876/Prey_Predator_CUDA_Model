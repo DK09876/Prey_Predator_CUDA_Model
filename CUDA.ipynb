{
 "cells": [
  {
   "cell_type": "code",
   "execution_count": null,
   "metadata": {},
   "outputs": [],
   "source": [
    "import numpy as np\n",
    "from numba import cuda"
   ]
  },
  {
   "cell_type": "code",
   "execution_count": null,
   "metadata": {},
   "outputs": [],
   "source": [
    "@cuda.jit\n",
    "def Prey_Predator(grid_size, prey_size, predator_size):\n",
    "    # Thread id in a 1D block\n",
    "    # Simulation ID\n",
    "    id = cuda.threadIdx.x\n",
    "    \n",
    "    # # Block id in a 1D grid\n",
    "    # ty = cuda.blockIdx.x\n",
    "    # # Block width, i.e. number of threads per block\n",
    "    # bw = cuda.blockDim.x\n",
    "    # # Compute flattened index inside the array\n",
    "    # pos = tx + ty * bw\n",
    "\n",
    "\n",
    "\n",
    "    # #shared array for results\n",
    "    # prey_results = cuda.shared.array(num_simulations, int32)\n",
    "    # predator_results = cuda.shared.array(num_simulations, int32)\n",
    "\n",
    "\n",
    "\n",
    "\n",
    "    #after simulation\n",
    "    dprey_results[id] = prey.population\n",
    "    dpredator_results[id] = predator.population\n",
    "\n",
    "    \n",
    "    "
   ]
  },
  {
   "cell_type": "code",
   "execution_count": null,
   "metadata": {},
   "outputs": [],
   "source": [
    "# only using 1 block but many threads\n",
    "# number of threads\n",
    "num_simulations = 32\n",
    "num_block = 1\n",
    "\n",
    "prey_results = np.empty([num_simulations],dtype= int)\n",
    "predator_results = np.empty([num_simulations],dtype= int)\n",
    "\n",
    "#copy to device\n",
    "dprey_results = cuda.to_device(prey_results)\n",
    "dpredator_results = cuda.to_device(predator_results)\n",
    "\n",
    "\n",
    "#kernel call\n",
    "\n",
    "grid_size = 10\n",
    "prey_size = 1\n",
    "predator_size = 2\n",
    "\n",
    "\n",
    "Prey_Predator[num_block, num_simulations](grid_size, prey_size, predator_size)\n",
    "\n",
    "#get results to host\n",
    "prey_results = dprey_results.copy_to_host()\n",
    "predator_results = dpredator_results.copy_to_host()"
   ]
  }
 ],
 "metadata": {
  "kernelspec": {
   "display_name": "Python 3.9.2 64-bit",
   "language": "python",
   "name": "python3"
  },
  "language_info": {
   "codemirror_mode": {
    "name": "ipython",
    "version": 3
   },
   "file_extension": ".py",
   "mimetype": "text/x-python",
   "name": "python",
   "nbconvert_exporter": "python",
   "pygments_lexer": "ipython3",
   "version": "3.9.2"
  },
  "orig_nbformat": 4,
  "vscode": {
   "interpreter": {
    "hash": "aee8b7b246df8f9039afb4144a1f6fd8d2ca17a180786b69acc140d282b71a49"
   }
  }
 },
 "nbformat": 4,
 "nbformat_minor": 2
}
