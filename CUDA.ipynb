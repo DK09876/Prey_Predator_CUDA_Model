{
 "cells": [
  {
   "cell_type": "markdown",
   "metadata": {},
   "source": [
    "# Import Statements #"
   ]
  },
  {
   "cell_type": "code",
   "execution_count": 54,
   "metadata": {},
   "outputs": [],
   "source": [
    "import numpy as np\n",
    "#from numba import cuda\n",
    "import matplotlib.pyplot as plt\n",
    "from numpy import random\n",
    "from multiprocessing.pool import ThreadPool as Pool\n",
    "import time\n"
   ]
  },
  {
   "cell_type": "markdown",
   "metadata": {},
   "source": [
    "# Classes #"
   ]
  },
  {
   "cell_type": "code",
   "execution_count": 55,
   "metadata": {},
   "outputs": [],
   "source": [
    "#parent class for animals\n",
    "class Animal:\n",
    "  def __init__ (self,id, hungerRate, birthRate, currLife, moveSpeed, speedModifier, rowPosition, columnPosition):\n",
    "    self.id=id\n",
    "    self.hungerRate=hungerRate\n",
    "    self.birthRate=birthRate\n",
    "    self.currLife=currLife\n",
    "    self.moveSpeed=moveSpeed\n",
    "    self.speedModifier=speedModifier\n",
    "    self.rowPosition=rowPosition\n",
    "    self.columnPosition=columnPosition\n",
    "    \n",
    "    #adjacent tiles at any given spot\n",
    "    self.moveOptions = [[-1,-1],[0,-1],[1,-1],[-1,0],[1,0],[-1,1],[0,1],[1,1]]\n",
    "    \n",
    "\n",
    "  def die(self,Grid,thisarr,otherarr):\n",
    "    # print(\"There is death\")\n",
    "    #remove from grid and remove from the list\n",
    "    setattr(Grid[self.rowPosition][self.columnPosition], \"myAnimal\", None)\n",
    "    thisarr = np.delete(thisarr , self.id)\n",
    "    returnlist = [Grid,thisarr,otherarr]\n",
    "    return returnlist\n",
    "    \n",
    "  def breed(self,Grid,numRows, numCols,animalArr,otherArr):\n",
    "    #moved into one of our own and TotalPopuation < MaxPopulation - 1\n",
    "    #spawn new animalType in free adjacent cell\n",
    "    #breed chance\n",
    "    toBirth = False\n",
    "\n",
    "    rand = random.random()\n",
    "\n",
    "    if rand<=self.birthRate:\n",
    "      toBirth = True\n",
    "\n",
    "    #spawn child\n",
    "    if (toBirth):\n",
    "\n",
    "      moveOptionsCopy = self.moveOptions.copy()\n",
    "      validMoveOptions = moveOptionsCopy.copy()\n",
    "      count = 0\n",
    "\n",
    "      \n",
    "      #remove invalid moves from validMoveOptions\n",
    "      for i in moveOptionsCopy:\n",
    "        xpos = i[0]\n",
    "        ypos = i[1]\n",
    "        \n",
    "        #if the adjacent cell is out of bounds then remove that from option\n",
    "        if self.rowPosition + xpos <= -1 or self.rowPosition + xpos >= numRows or self.columnPosition + ypos <= -1 or self.columnPosition + ypos >= numCols:\n",
    "          validMoveOptions.pop(count) \n",
    "          continue\n",
    "        #if the adjacent cell is occupied\n",
    "        if getattr(Grid[self.rowPosition+xpos][self.columnPosition+ypos],'myAnimal') != None:\n",
    "          validMoveOptions.pop(count)\n",
    "          continue\n",
    "        count += 1\n",
    "      \n",
    "      if (len(validMoveOptions)>0):  \n",
    "        BirthOption = random.randint(len(validMoveOptions))\n",
    "\n",
    "       \n",
    "        Move = validMoveOptions[BirthOption]\n",
    "\n",
    "        deltaX = self.rowPosition + Move[0]\n",
    "        deltaY = self.columnPosition + Move[1]\n",
    "\n",
    "        # print (f\"I'm breeding to {deltaX}, {deltaY}\")\n",
    "\n",
    "        if type(self).__name__ == \"Wolf\":\n",
    "          #spawn new wolf\n",
    "          newID = len(animalArr)\n",
    "          babyWolf = Wolf(newID,self.hungerRate,self.birthRate,self.currLife,self.moveSpeed,self.speedModifier,deltaX,deltaY)\n",
    "          setattr(Grid[deltaX][deltaY], 'myAnimal', babyWolf)\n",
    "          animalArr = np.append(animalArr, babyWolf)\n",
    "          returnList = [Grid,animalArr,otherArr]\n",
    "          return returnList\n",
    "        else :\n",
    "          #spawn new sheep\n",
    "          newID = len(animalArr)\n",
    "          babySheep = Sheep(newID,self.hungerRate,self.birthRate,self.currLife,self.moveSpeed,self.speedModifier,deltaX,deltaY)\n",
    "          animalArr = np.append(animalArr,babySheep)\n",
    "          setattr(Grid[deltaX][deltaY], 'myAnimal', babySheep)\n",
    "          returnList = [Grid,animalArr,otherArr]\n",
    "          return returnList\n",
    "      else:\n",
    "        #there is no available space to breed to\n",
    "        returnList = [Grid,animalArr,otherArr]\n",
    "        return returnList\n",
    "\n",
    "  def move(self, Grid, xBound, yBound,thisarr,otherarr):\n",
    "    \n",
    "    cont=True\n",
    "    movesRemaining=self.moveSpeed\n",
    "\n",
    "    \n",
    "    newX=-1\n",
    "    newY=-1\n",
    "    while movesRemaining>0:\n",
    "      if self.currLife == 0:\n",
    "        # print ('I have reached the end of my life by moving')\n",
    "        return self.die(Grid,thisarr,otherarr)\n",
    "      movesCopy=self.moveOptions.copy()\n",
    "\n",
    "      while cont:\n",
    "        index=random.randint(len(movesCopy))\n",
    "        newX=self.rowPosition+movesCopy[index][0]\n",
    "        newY=self.columnPosition+movesCopy[index][1]\n",
    "        if newX < 0 or newY < 0 or newX >= xBound or newY >= yBound:\n",
    "          movesCopy.pop(index)\n",
    "        else:\n",
    "          cont=False\n",
    "\n",
    "      # print (f\"I'm moving to {newX}, {newY}\")\n",
    "      if getattr(Grid[newX][newY],'myAnimal') == None:\n",
    "        setattr(Grid[newX][newY], \"myAnimal\", self)\n",
    "        setattr(Grid[self.rowPosition][self.columnPosition], \"myAnimal\", None)\n",
    "        self.rowPosition=newX\n",
    "        self.columnPosition=newY\n",
    "\n",
    "        #if i am sheep i will eat grass\n",
    "        if (type(self).__name__) == 'Sheep':\n",
    "          self.hungerRate = 1\n",
    "\n",
    "        self.currLife -= (self.hungerRate)\n",
    "        movesRemaining -= 1\n",
    "      elif type(getattr(Grid[newX][newY], \"myAnimal\")).__name__ == type(self).__name__:\n",
    "        movesRemaining=0\n",
    "        return self.breed(Grid, xBound, yBound,thisarr,otherarr)\n",
    "        \n",
    "      else:\n",
    "        movesRemaining=0\n",
    "        if type(getattr(Grid[newX][newY],'myAnimal')).__name__ == \"Wolf\":\n",
    "          ranIntoWolf = getattr(Grid[newX][newY],'myAnimal')\n",
    "          ranIntoWolf.freefood()\n",
    "          return self.die(Grid,thisarr,otherarr)\n",
    "        else:\n",
    "          return self.eat(Grid,thisarr,otherarr,newX,newY)\n",
    "    returnList = [Grid,thisarr,otherarr]\n",
    "    self.hungerRate += 1\n",
    "    return returnList\n",
    "      \n",
    "  def __str__(self):\n",
    "    return f\"id:{self.id}, position:({self.rowPosition},{self.columnPosition}), hungerRate:{self.hungerRate}, breedRate:{self.birthRate}, currLife:{self.currLife}, moveSpeed:{self.moveSpeed}, speedModifier:{self.speedModifier}\"\n",
    "  \n",
    "class simObj:\n",
    "  def __init__(self, numSteps, numRow, numCol, numPrey, numPred):\n",
    "    self.numSteps=numSteps\n",
    "    self.numRow=numRow\n",
    "    self.numCol=numCol\n",
    "    self.numPrey=numPrey\n",
    "    self.numPred=numPred\n",
    "  \n",
    "\n",
    "# class simRunner:\n",
    "#   def __init__():\n",
    "#     pass\n",
    "\n",
    "\n",
    "\n"
   ]
  },
  {
   "cell_type": "code",
   "execution_count": 56,
   "metadata": {},
   "outputs": [],
   "source": [
    "#class for prey\n",
    "class Sheep(Animal):\n",
    "    def __init__ (self, id, hungerRate, birthRate, currLife, moveSpeed, speedModifier, rowPosition, columnPosition):\n",
    "        super().__init__(id,hungerRate, birthRate, currLife, moveSpeed, speedModifier, rowPosition, columnPosition)\n",
    "    \n",
    "    def eat(self):\n",
    "        # print(\"yum!\")\n",
    "        pass"
   ]
  },
  {
   "cell_type": "code",
   "execution_count": 57,
   "metadata": {},
   "outputs": [],
   "source": [
    "#class for predator\n",
    "class Wolf(Animal):\n",
    "    def __init__ (self, id, hungerRate, birthRate, currLife, moveSpeed, speedModifier, rowPosition, columnPosition):\n",
    "        super().__init__(id,hungerRate, birthRate, currLife, moveSpeed, speedModifier, rowPosition, columnPosition)\n",
    "    \n",
    "    def eat(self,Grid,thisarr,otherarr,newX,newY):\n",
    "        self.hungerRate = 1\n",
    "        # print(\"there is food\")\n",
    "        #get id of prey\n",
    "        prey = getattr(Grid[newX][newY], \"myAnimal\")\n",
    "        preyID = getattr(prey,'id')\n",
    "        #move into the new position\n",
    "        setattr(Grid[newX][newY], \"myAnimal\", self)\n",
    "        setattr(Grid[self.rowPosition][self.columnPosition], \"myAnimal\", None)\n",
    "        self.rowPosition=newX\n",
    "        self.columnPosition=newY\n",
    "        otherarr = np.delete(otherarr,preyID)\n",
    "        returnlist = [Grid,thisarr,otherarr]\n",
    "        return returnlist\n",
    "\n",
    "    def freefood(self):\n",
    "        #if free food walks into you you are no longer hungry\n",
    "        self.hungerRate = 1\n",
    "\n",
    "        "
   ]
  },
  {
   "cell_type": "code",
   "execution_count": 58,
   "metadata": {},
   "outputs": [],
   "source": [
    "#class for each grid spot\n",
    "class Grass:\n",
    "  def __init__(self, hasFood, growthRate, myAnimal):\n",
    "    self.hasFood= hasFood\n",
    "    self.growthRate= growthRate\n",
    "    self.myAnimal= myAnimal\n",
    "  \n",
    "  def __str__(self):\n",
    "    return f\"{type(self.myAnimal).__name__}\""
   ]
  },
  {
   "cell_type": "markdown",
   "metadata": {},
   "source": [
    "# Serial Simulation #"
   ]
  },
  {
   "cell_type": "code",
   "execution_count": 59,
   "metadata": {},
   "outputs": [],
   "source": [
    "def Simulation(numRuns, numRows, numCols, preySize, predatorSize):\n",
    "    #Initialize Field\n",
    "    #numRows = 5\n",
    "    #self.numCols = 5\n",
    "    #self.numRuns=numRuns\n",
    "\n",
    "    Grid = np.empty((numRows,numCols), dtype= Grass)\n",
    "\n",
    "    ## print(Grid)\n",
    "\n",
    "    #Initialize Grass in each field\n",
    "\n",
    "    hasFood = True\n",
    "    growthRate = 1.0\n",
    "    myAnimal = None\n",
    "\n",
    "    for i in range(numRows):\n",
    "        for j in range(numCols):\n",
    "            Grid[i][j] = Grass(hasFood,growthRate,myAnimal)\n",
    "\n",
    "    #Initialize Prey\n",
    "    # preySize = 10\n",
    "\n",
    "    preyArr = np.empty([preySize], dtype=Sheep)\n",
    "\n",
    "    hungerRate = 1\n",
    "    birthRate = 1.0\n",
    "    currLife = 10\n",
    "    moveSpeed = 1\n",
    "    speedModifier = 1\n",
    "\n",
    "    for i in range(preySize):\n",
    "        #randomly generate x,y coordinates\n",
    "        rowPosition = random.randint(numRows)\n",
    "        columnPosition = random.randint(numCols)\n",
    "        \n",
    "        #if that spot already has animal then generate again\n",
    "        while (getattr(Grid[rowPosition][columnPosition],'myAnimal') != None):\n",
    "            rowPosition = random.randint(numRows)\n",
    "            columnPosition = random.randint(numCols)\n",
    "\n",
    "        #update grid\n",
    "        preyArr[i] = Sheep(i,hungerRate, birthRate, currLife, moveSpeed, speedModifier, rowPosition, columnPosition)\n",
    "        setattr(Grid[rowPosition][columnPosition], 'myAnimal', preyArr[i])\n",
    "    \n",
    "\n",
    "\n",
    "    #Initialize Predator\n",
    "    # predatorSize = 5\n",
    "\n",
    "    predatorArr = np.empty([predatorSize], dtype=Wolf)\n",
    "\n",
    "    hungerRate = 1\n",
    "    birthRate = 1.0 \n",
    "    currLife = 10\n",
    "    moveSpeed = 1\n",
    "    speedModifier = 1.0\n",
    "\n",
    "    for i in range(predatorSize):\n",
    "        rowPosition = random.randint(numRows)\n",
    "        columnPosition = random.randint(numCols)\n",
    "        \n",
    "        #if that spot already has animal then generate again\n",
    "        while (getattr(Grid[rowPosition][columnPosition],'myAnimal') != None):\n",
    "            rowPosition = random.randint(numRows)\n",
    "            columnPosition = random.randint(numCols)\n",
    "\n",
    "        #update grid\n",
    "        predatorArr[i] = Wolf(i,hungerRate, birthRate, currLife, moveSpeed, speedModifier, rowPosition, columnPosition)\n",
    "        setattr(Grid[rowPosition][columnPosition], 'myAnimal', predatorArr[i])\n",
    "\n",
    "    # initialize populations\n",
    "\n",
    "    MaxPopulation = numRows * numCols\n",
    "    TotalPopulation = predatorSize + preySize\n",
    "\n",
    "\n",
    "    #for i in range(numRows):\n",
    "        # print(\"\\n\")\n",
    "        #for j in range(numCols):\n",
    "              # print(Grid[i][j],end= \" \"),\n",
    "\n",
    "\n",
    "    # numRuns = 5\n",
    "\n",
    "    for j in range(numRuns):\n",
    "        if TotalPopulation>=MaxPopulation:\n",
    "            TotalPopulation=MaxPopulation\n",
    "            break\n",
    "\n",
    "        #if (j == 1):\n",
    "            # print(\"\\n\")\n",
    "            # print (\"second set of moves\")\n",
    "        #every sheep gets a move\n",
    "        for i in preyArr:\n",
    "            testx = getattr(i, 'rowPosition')\n",
    "            testy = getattr(i, 'columnPosition')\n",
    "            # print('\\n')\n",
    "            # print('picked prey @')\n",
    "            # print(f\"{testx}, {testy}\")\n",
    "            \n",
    "            returnvalue= i.move(Grid, numRows, numCols,preyArr,predatorArr)\n",
    "            Grid = returnvalue[0]\n",
    "            preyArr = returnvalue[1]\n",
    "            predatorArr = returnvalue[2]\n",
    "\n",
    "            #update ID \n",
    "            for i in range(len(preyArr)):\n",
    "                setattr(preyArr[i], 'id', i)\n",
    "            for i in range(len(predatorArr)):\n",
    "                setattr(predatorArr[i], 'id', i)\n",
    "            \n",
    "            #for i in range(numRows):\n",
    "                # print(\"\\n\")\n",
    "                #for j in range(numCols):\n",
    "                    # print(Grid[i][j],end= \" \"),\n",
    "\n",
    "        #every wolf grets a move\n",
    "        for i in predatorArr:\n",
    "            testx = getattr(i, 'rowPosition')\n",
    "            testy = getattr(i, 'columnPosition')\n",
    "            # print('\\n')\n",
    "            # print('picked predator @')\n",
    "            # print(f\"{testx}, {testy}\")\n",
    "            \n",
    "            returnvalue= i.move(Grid, numRows, numCols,predatorArr,preyArr)\n",
    "            Grid = returnvalue[0]\n",
    "            predatorArr = returnvalue[1]\n",
    "            preyArr = returnvalue[2]\n",
    "\n",
    "            #update ID \n",
    "            for i in range(len(preyArr)):\n",
    "                setattr(preyArr[i], 'id', i)\n",
    "            for i in range(len(predatorArr)):\n",
    "                setattr(predatorArr[i], 'id', i)\n",
    "            \n",
    "        TotalPopulation=len(predatorArr)+len(preyArr)    \n",
    "        #print(TotalPopulation)  \n",
    "        \n",
    "            #for i in range(numRows):\n",
    "                # print(\"\\n\")\n",
    "                #for j in range(numCols):\n",
    "                    # print(Grid[i][j],end= \" \"),\n",
    "    return [len(preyArr),len(predatorArr)]\n",
    "        "
   ]
  },
  {
   "cell_type": "markdown",
   "metadata": {},
   "source": [
    "Assumptions:\n",
    "\n",
    "* There is infinite food for the sheep so their hunger always stays constant\n"
   ]
  },
  {
   "cell_type": "code",
   "execution_count": 60,
   "metadata": {},
   "outputs": [
    {
     "data": {
      "text/plain": [
       "[16, 25]"
      ]
     },
     "execution_count": 60,
     "metadata": {},
     "output_type": "execute_result"
    }
   ],
   "source": [
    "Simulation(5, 20, 20, 20, 20)"
   ]
  },
  {
   "cell_type": "markdown",
   "metadata": {},
   "source": [
    "# Multiprocessing (Pool)\n",
    "got help from this site https://jupyter-tutorial.readthedocs.io/en/stable/performance/multiprocessing.html\n"
   ]
  },
  {
   "cell_type": "code",
   "execution_count": 61,
   "metadata": {},
   "outputs": [],
   "source": [
    "# function that takes a simObject and runs a simulation with parameters corresponding to the object's variables.  Allows Simulation to be\n",
    "# mapped to a list of sim objects\n",
    "def unpackRun(simObj):\n",
    "    return Simulation(simObj.numSteps, simObj.numRow, simObj.numCol, simObj.numPrey, simObj.numPred)\n",
    "\n",
    "\n",
    "#parallel function that runs simualtions\n",
    "def parallel_sim(numSteps, numRow, numCol, numPrey, numPred, numSims, numThreads):\n",
    "    #chunks=numThreads//32\n",
    "    #create a pool of threads for each simulation we want to run\n",
    "    p=Pool(numThreads)\n",
    "    \n",
    "\n",
    "    # create an empty list to fill with sim objects\n",
    "    runs=[]\n",
    "\n",
    "    # for the number of simulations...\n",
    "    for x in range(numSims):\n",
    "        # ...add a new simObj to runs with the passed in parameters\n",
    "        runs.append(simObj(numSteps, numRow, numCol, numPrey, numPred))\n",
    "\n",
    "    # result = p.map_async(unpackRun, runs)\n",
    "    # print(result.get())\n",
    "    parallelresults =  p.imap_unordered(unpackRun, runs)\n",
    "    #for each item in the list returned by mapping unpackRun on runs...\n",
    "    for x in parallelresults:\n",
    "        continue\n",
    "        #...print element x\n",
    "        #print(x)"
   ]
  },
  {
   "cell_type": "markdown",
   "metadata": {},
   "source": [
    "# Serial vs. Parallel Version of Multiple runs"
   ]
  },
  {
   "cell_type": "code",
   "execution_count": 62,
   "metadata": {},
   "outputs": [],
   "source": [
    "numSims = [50,100,250,500]\n",
    "serialTimes = np.zeros(shape=len(numSims))\n",
    "parallelTimes = np.zeros(shape=len(numSims))\n",
    "\n"
   ]
  },
  {
   "cell_type": "code",
   "execution_count": 63,
   "metadata": {},
   "outputs": [],
   "source": [
    "#serial run\n",
    "\n",
    "\n",
    "runs=[]\n",
    "count = 0\n",
    "# for the number of simulations...\n",
    "for x in numSims:\n",
    "    runs=[]\n",
    "    #start recording time\n",
    "    start = time.time()\n",
    "\n",
    "    for y in range(x):\n",
    "        # ...add a new simObj to runs with the passed in parameters\n",
    "        runs.append(simObj(5, 20, 20, 20, 20))\n",
    "        for x in runs:\n",
    "            unpackRun(x)\n",
    "    #stop recording time\n",
    "    end = time.time()\n",
    "    serialTimes[count] = end-start\n",
    "    count += 1"
   ]
  },
  {
   "cell_type": "code",
   "execution_count": 72,
   "metadata": {},
   "outputs": [],
   "source": [
    "#Parallel run\n",
    "count = 0\n",
    "for x in numSims:\n",
    "    start = time.time()\n",
    "    #threads are set to 4\n",
    "    parallel_sim(5, 20, 20, 20, 20, x,4)\n",
    "    end = time.time()\n",
    "    parallelTimes[count]= end-start \n",
    "    count +=1"
   ]
  },
  {
   "cell_type": "code",
   "execution_count": 65,
   "metadata": {},
   "outputs": [
    {
     "name": "stdout",
     "output_type": "stream",
     "text": [
      "[0.08706403 0.165694   0.47122478 0.90848899]\n"
     ]
    }
   ],
   "source": [
    "print (parallelTimes)"
   ]
  },
  {
   "cell_type": "code",
   "execution_count": 68,
   "metadata": {},
   "outputs": [
    {
     "name": "stdout",
     "output_type": "stream",
     "text": [
      "[  2.35438514   8.80830002  54.37931085 218.44877696]\n"
     ]
    }
   ],
   "source": [
    "print(serialTimes)"
   ]
  },
  {
   "cell_type": "markdown",
   "metadata": {},
   "source": [
    "# Graphing Things #"
   ]
  },
  {
   "cell_type": "code",
   "execution_count": 76,
   "metadata": {},
   "outputs": [
    {
     "data": {
      "image/png": "[encoded data removed]",
      "text/plain": [
       "<Figure size 640x480 with 1 Axes>"
      ]
     },
     "metadata": {},
     "output_type": "display_data"
    }
   ],
   "source": [
    "y= numSims\n",
    "x = serialTimes\n",
    "z = parallelTimes\n",
    "\n",
    "plt.plot(y, x, \"-b\", label=\"Serial\")\n",
    "plt.plot(y, z, \"-r\", label=\"Parallel\")\n",
    "plt.xlabel(\"Num_sims\")\n",
    "plt.ylabel(\"RunTime in Seconds\")\n",
    "plt.legend(loc=\"upper left\")\n",
    "\n",
    "plt.show()"
   ]
  },
  {
   "cell_type": "code",
   "execution_count": 82,
   "metadata": {},
   "outputs": [
    {
     "data": {
      "text/plain": [
       "Text(0, 0.5, 'RunTime in Seconds')"
      ]
     },
     "execution_count": 82,
     "metadata": {},
     "output_type": "execute_result"
    },
    {
     "data": {
      "image/png": "[encoded data removed]",
      "text/plain": [
       "<Figure size 640x480 with 1 Axes>"
      ]
     },
     "metadata": {},
     "output_type": "display_data"
    }
   ],
   "source": [
    "plt.scatter(y,x)\n",
    "plt.scatter(y,z)\n",
    "plt.xlabel(\"Num_sims\")\n",
    "plt.ylabel(\"RunTime in Seconds\")"
   ]
  },
  {
   "cell_type": "markdown",
   "metadata": {},
   "source": [
    "Report: \n",
    "\n",
    "From our testing we can see that the parallel version of running simulations are way faster than serial. We tried using CUDA initially but realised it was futile to try to do so as our simulations do not represent the SIMD format CUDA is based on. We then parallelised our simunlation by using a python package multiprocessing where we ran the serial simulations in parallel on multiple threads.\n",
    "\n",
    "For our resultant graph we ran simulations for 50,100,250,500 times for both parallel and serial and timed it. The results can be seen in the graph above."
   ]
  },
  {
   "cell_type": "markdown",
   "metadata": {},
   "source": [
    "# CUDA Kernel (Failed) #"
   ]
  },
  {
   "cell_type": "markdown",
   "metadata": {},
   "source": [
    "Documentation: https://numba.readthedocs.io/en/stable/cuda/index.html"
   ]
  },
  {
   "cell_type": "code",
   "execution_count": 308,
   "metadata": {},
   "outputs": [],
   "source": [
    "@cuda.jit\n",
    "def Prey_Predator(numRuns, numRows, numCols, preySize, predatorSize, prey_results, predator_results, results):\n",
    "    # Thread id in a 1D block\n",
    "    # Simulation ID\n",
    "    id = cuda.threadIdx.x\n",
    "    \n",
    "    \n",
    "\n",
    "    preyPopulation = results[0]\n",
    "    predatorPopulation = results[1]\n",
    "\n",
    "    #after simulation\n",
    "    prey_results[id]=preyPopulation\n",
    "    predator_results[id]=predatorPopulation\n",
    "\n",
    "    cuda.syncthreads()\n",
    "\n",
    "    \n",
    "    "
   ]
  },
  {
   "cell_type": "code",
   "execution_count": 306,
   "metadata": {},
   "outputs": [],
   "source": [
    "@cuda.jit(device=True)\n",
    "def device_simulation(numRuns, numRows, numCols, preySize, predatorSize):\n",
    "    return Simulation(numRuns, numRows, numCols, preySize, predatorSize)"
   ]
  },
  {
   "cell_type": "code",
   "execution_count": null,
   "metadata": {},
   "outputs": [],
   "source": [
    "# only using 1 block but many threads\n",
    "# number of threads\n",
    "num_simulations = 32\n",
    "num_block = 1\n",
    "\n",
    "prey_results = cuda.to_device(np.zeros(num_simulations))\n",
    "# print(prey_results)\n",
    "predator_results = cuda.to_device(np.zeros(num_simulations))\n",
    "# print(len(predator_results))\n",
    "\n",
    "\n",
    "#copy to device\n",
    "#dprey_results = cuda.device_array_like(prey_results)\n",
    "#dpredator_results = cuda.device_array_like(predator_results)\n",
    "\n",
    "\n",
    "#kernel call\n",
    "\n",
    "numRuns = 5\n",
    "numRows = 5\n",
    "numCols = 5\n",
    "preySize = 10\n",
    "predatorSize = 5\n",
    "results=cuda.to_device(np.zeros(2))\n",
    "\n",
    "Prey_Predator[num_block, num_simulations](numRuns, numRows, numCols, preySize, predatorSize, prey_results, predator_results, results)\n",
    "\n",
    "#get results to host\n",
    "prey_results = prey_results.copy_to_host()\n",
    "predator_results = predator_results.copy_to_host()\n",
    "print(prey_results)\n",
    "print(predator_results)"
   ]
  }
 ],
 "metadata": {
  "kernelspec": {
   "display_name": "Python 3.9.2 64-bit",
   "language": "python",
   "name": "python3"
  },
  "language_info": {
   "codemirror_mode": {
    "name": "ipython",
    "version": 3
   },
   "file_extension": ".py",
   "mimetype": "text/x-python",
   "name": "python",
   "nbconvert_exporter": "python",
   "pygments_lexer": "ipython3",
   "version": "3.9.2"
  },
  "orig_nbformat": 4,
  "vscode": {
   "interpreter": {
    "hash": "aee8b7b246df8f9039afb4144a1f6fd8d2ca17a180786b69acc140d282b71a49"
   }
  }
 },
 "nbformat": 4,
 "nbformat_minor": 2
}
