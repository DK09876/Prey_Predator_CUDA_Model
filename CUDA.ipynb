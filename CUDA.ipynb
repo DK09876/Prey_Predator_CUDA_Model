{
 "cells": [
  {
   "cell_type": "code",
   "execution_count": 28,
   "metadata": {},
   "outputs": [],
   "source": [
    "import numpy as np\n",
    "#from numba import cuda\n",
    "import matplotlib.pyplot as plt"
   ]
  },
  {
   "cell_type": "markdown",
   "metadata": {},
   "source": [
    "# Classes #"
   ]
  },
  {
   "cell_type": "code",
   "execution_count": 29,
   "metadata": {},
   "outputs": [],
   "source": [
    "#parent class for animals\n",
    "class Animal:\n",
    "  def __init__ (self, hungerRate, birthRate, maxLife, moveSpeed, speedModifier, xPosition, yPosition):\n",
    "    # self.id=id\n",
    "    self.hungerRate=hungerRate\n",
    "    self.birthRate=birthRate\n",
    "    self.maxLife=maxLife\n",
    "    self.moveSpeed=moveSpeed\n",
    "    self.speedModifier=speedModifier\n",
    "    self.xPosition=xPosition\n",
    "    self.yPosition=yPosition\n",
    "\n",
    "  def die(self):\n",
    "        self.xPosition=-1\n",
    "        self.yPosition=-1\n",
    "        print(\"oof\")\n",
    "    \n",
    "  def breed(self):\n",
    "      print(\"Did you come from a vending machine bc you're a snack\")\n",
    "    \n",
    "  def move(self):\n",
    "    \"\"\"TODO: Correctly calculate and return the correct move speed\"\"\"\n",
    "    self.totalMove=self.moveSpeed*self.speedModifier\n",
    "    print(\"I moved {self.totalMove} spaces!\")\n",
    "\n",
    "  def __str__(self):\n",
    "    return f\"id:{self.id}, position:({self.xPosition},{self.yPosition}), hungerRate:{self.hungerRate}, breedRate:{self.birthRate}, maxLife:{self.maxLife}, moveSpeed:{self.moveSpeed}, speedModifier:{self.speedModifier}\""
   ]
  },
  {
   "cell_type": "code",
   "execution_count": 30,
   "metadata": {},
   "outputs": [],
   "source": [
    "#class for prey\n",
    "class Sheep(Animal):\n",
    "    def __init__ (self, hungerRate, birthRate, maxLife, moveSpeed, speedModifier, xPosition, yPosition):\n",
    "        super().__init__(hungerRate, birthRate, maxLife, moveSpeed, speedModifier, xPosition, yPosition)\n",
    "    \n",
    "    def eat(self):\n",
    "        print(\"yum!\")"
   ]
  },
  {
   "cell_type": "code",
   "execution_count": 31,
   "metadata": {},
   "outputs": [],
   "source": [
    "#class for predator\n",
    "class Wolf(Animal):\n",
    "    def __init__ (self, hungerRate, birthRate, maxLife, moveSpeed, speedModifier, xPosition, yPosition):\n",
    "        super().__init__(hungerRate, birthRate, maxLife, moveSpeed, speedModifier, xPosition, yPosition)\n",
    "    \n",
    "    def eat(self):\n",
    "        print(\"yummy!\")"
   ]
  },
  {
   "cell_type": "code",
   "execution_count": 32,
   "metadata": {},
   "outputs": [],
   "source": [
    "#class for each grid spot\n",
    "class Grass:\n",
    "  def __init__(self, hasFood, growthRate, myAnimal):\n",
    "    self.hasFood= hasFood\n",
    "    self.growthRate= growthRate\n",
    "    self.myAnimal= myAnimal\n",
    "  \n",
    "  def __str__(self):\n",
    "    return f\"growthrate = {self.growthRate}\""
   ]
  },
  {
   "cell_type": "markdown",
   "metadata": {},
   "source": [
    "# Serial Simulation #"
   ]
  },
  {
   "cell_type": "code",
   "execution_count": 26,
   "metadata": {},
   "outputs": [
    {
     "name": "stdout",
     "output_type": "stream",
     "text": [
      "growthrate = 1.0\n"
     ]
    }
   ],
   "source": [
    "def Simulation():\n",
    "    #Initialize Field\n",
    "    GridsizeX = 5\n",
    "    GridSizeY = 5\n",
    "    Grid = np.empty([GridsizeX,GridSizeY], dtype= Grass)\n",
    "\n",
    "    #Initialize Grass in each field\n",
    "\n",
    "    hasFood = True\n",
    "    growthRate = 1.0\n",
    "    myAnimal = None\n",
    "\n",
    "    for i in range(GridsizeX):\n",
    "        for j in range(GridSizeY):\n",
    "            Grid[i][j] = Grass(hasFood,growthRate,myAnimal)\n",
    "\n",
    "    #Initialize Prey\n",
    "    preySize = 10\n",
    "\n",
    "    preyArr = np.empty([preySize], dtype=Sheep)\n",
    "\n",
    "    hungerRate = 1\n",
    "    birthRate = 1 \n",
    "    maxLife = 10\n",
    "    moveSpeed = 1\n",
    "    speedModifier = 1\n",
    "\n",
    "    for i in range(preySize):\n",
    "        xPosition = i\n",
    "        yPosition = i\n",
    "        preyArr[i] = Sheep(ungerRate, birthRate, maxLife, moveSpeed, speedModifier, xPosition, yPosition)\n",
    "    \n",
    "\n",
    "\n",
    "    #Initialize Predator\n",
    "    predatorSize = 5     \n",
    "\n",
    "    predatorArr = np.empty([predatorSize], dtype=Wolf)\n",
    "\n",
    "    hungerRate = 1\n",
    "    birthRate = 1 \n",
    "    maxLife = 10\n",
    "    moveSpeed = 1\n",
    "    speedModifier = 1\n",
    "\n",
    "    for i in range(preySize):\n",
    "        xPosition = 5-i\n",
    "        yPosition = 5-i\n",
    "        preyArr[i] = Sheep(ungerRate, birthRate, maxLife, moveSpeed, speedModifier, xPosition, yPosition)\n",
    "        "
   ]
  },
  {
   "cell_type": "markdown",
   "metadata": {},
   "source": [
    "# CUDA Kernel #"
   ]
  },
  {
   "cell_type": "code",
   "execution_count": null,
   "metadata": {},
   "outputs": [],
   "source": [
    "@cuda.jit\n",
    "def Prey_Predator(grid_size, prey_size, predator_size):\n",
    "    # Thread id in a 1D block\n",
    "    # Simulation ID\n",
    "    id = cuda.threadIdx.x\n",
    "    \n",
    "    # # Block id in a 1D grid\n",
    "    # ty = cuda.blockIdx.x\n",
    "    # # Block width, i.e. number of threads per block\n",
    "    # bw = cuda.blockDim.x\n",
    "    # # Compute flattened index inside the array\n",
    "    # pos = tx + ty * bw\n",
    "\n",
    "\n",
    "\n",
    "    # #shared array for results\n",
    "    # prey_results = cuda.shared.array(num_simulations, int32)\n",
    "    # predator_results = cuda.shared.array(num_simulations, int32)\n",
    "\n",
    "\n",
    "\n",
    "\n",
    "    #after simulation\n",
    "    dprey_results[id] = prey.population\n",
    "    dpredator_results[id] = predator.population\n",
    "\n",
    "    \n",
    "    "
   ]
  },
  {
   "cell_type": "code",
   "execution_count": null,
   "metadata": {},
   "outputs": [],
   "source": [
    "# only using 1 block but many threads\n",
    "# number of threads\n",
    "num_simulations = 32\n",
    "num_block = 1\n",
    "\n",
    "prey_results = np.empty([num_simulations],dtype= int)\n",
    "predator_results = np.empty([num_simulations],dtype= int)\n",
    "\n",
    "#copy to device\n",
    "dprey_results = cuda.to_device(prey_results)\n",
    "dpredator_results = cuda.to_device(predator_results)\n",
    "\n",
    "\n",
    "#kernel call\n",
    "\n",
    "grid_size = 10\n",
    "prey_size = 1\n",
    "predator_size = 2\n",
    "\n",
    "\n",
    "Prey_Predator[num_block, num_simulations](grid_size, prey_size, predator_size)\n",
    "\n",
    "#get results to host\n",
    "prey_results = dprey_results.copy_to_host()\n",
    "predator_results = dpredator_results.copy_to_host()"
   ]
  },
  {
   "cell_type": "code",
   "execution_count": 4,
   "metadata": {},
   "outputs": [
    {
     "data": {
      "image/png": "[encoded data removed]",
      "text/plain": [
       "<Figure size 640x480 with 1 Axes>"
      ]
     },
     "metadata": {},
     "output_type": "display_data"
    }
   ],
   "source": [
    "#plotting things\n",
    "\n",
    "\n",
    "fig = plt.figure()\n",
    "x = np.linspace(0, 2 * np.pi, 50)\n",
    "y_sin = np.sin(x)\n",
    "y_cos = np.cos(x)\n",
    "plt.title('sin(x) & cos(x)')\n",
    "plt.xlabel('X axis')\n",
    "plt.ylabel('Y axis')\n",
    "plt.plot(x, y_sin, color = \"red\", linewidth = 1.5, linestyle = \"-.\", label = \"y_sin\")\n",
    "plt.plot(x, y_cos, marker = '+', linestyle = '-', label = 'y_cos')\n",
    "plt.legend(loc = \"upper left\")\n",
    "plt.show()"
   ]
  }
 ],
 "metadata": {
  "kernelspec": {
   "display_name": "Python 3.9.2 64-bit",
   "language": "python",
   "name": "python3"
  },
  "language_info": {
   "codemirror_mode": {
    "name": "ipython",
    "version": 3
   },
   "file_extension": ".py",
   "mimetype": "text/x-python",
   "name": "python",
   "nbconvert_exporter": "python",
   "pygments_lexer": "ipython3",
   "version": "3.9.2"
  },
  "orig_nbformat": 4,
  "vscode": {
   "interpreter": {
    "hash": "aee8b7b246df8f9039afb4144a1f6fd8d2ca17a180786b69acc140d282b71a49"
   }
  }
 },
 "nbformat": 4,
 "nbformat_minor": 2
}
